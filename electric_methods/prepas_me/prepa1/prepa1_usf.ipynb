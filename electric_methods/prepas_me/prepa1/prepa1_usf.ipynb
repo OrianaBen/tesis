{
 "cells": [
  {
   "cell_type": "markdown",
   "metadata": {},
   "source": [
    "# Introducción a Python y UDF (*Unified Data Format*)\n",
    "\n",
    "A manera de introducción de Python, vamos a ver un ejemplo práctico de código utilizado para convertir automáticamente los datos de tomografía eléctrica, que están en Excel, a un formato en archivo de texto que pueda leer PyGIMLi, la librería que vamos a usar para procesar datos eléctricos.\n",
    "\n",
    "Este formato es el UDF, y está diseñado para hacer que los datos eléctricos sean portables con otras librerías o lenguajes de programación. [Aquí](http://resistivity.net/bert/data_format.html) pueden leer una explicación detallada del formato. \n",
    "\n",
    "Los datos de tomografía eléctrica, cuando se toman en campo, tienen un formato así:\n",
    "\n",
    "![](p1.PNG)\n",
    "\n",
    "Mientras que un archivo en UDF luce así:\n",
    "\n",
    "![](p2.PNG)\n",
    "\n",
    "Si estamos trabajando con varias tomografías, queremos automatizar el proceso para no tener que hacer manualmente la conversión para cada set de datos. Entonces, ¿cómo lo hacemos?\n",
    "\n",
    "Lo primero que debemos hacer cada vez que usamos Python es importar las librerías que vamos a usar (una vez están instaladas, en el caso de las prepas, todo lo que vamos a necesitar ya está instalado)."
   ]
  },
  {
   "cell_type": "code",
   "execution_count": 1,
   "metadata": {},
   "outputs": [],
   "source": [
    "import pandas as pd"
   ]
  },
  {
   "cell_type": "markdown",
   "metadata": {},
   "source": [
    "[Pandas](https://pandas.pydata.org/) es una librería básica para el manejo de datos en Python. Básicamente permite almacenarlos en dos estructuras: \n",
    "- Series: un arreglo de una dimensión que puede guardar cualquier tipo de dato.\n",
    "- DataFrame: un arreglo de dos dimensiones que guarda los datos como una tabla con columnas y filas."
   ]
  },
  {
   "cell_type": "code",
   "execution_count": 2,
   "metadata": {},
   "outputs": [],
   "source": [
    "df = pd.read_excel('electric_data _modified.xlsx',sheet_name=0,index_col=None)\n",
    "data_number = len(df)"
   ]
  },
  {
   "cell_type": "markdown",
   "metadata": {},
   "source": [
    "Aquí estamos leyendo el archivo Excel \"electric_data _modified.xlsx\" donde están los datos eléctricos en un DataFrame, llamado ``df`` con la función `pd.read_excel`. Los argumentos de esta función especifican detalles sobre el archivo con el que queremos trabajar, en este caso ``sheet_name`` corresponde a la hoja del archivo que queremos leer.\n",
    "\n",
    "Por otro lado, ``len(df)`` es una función que nos devuelve la longitud del DataFrame, dato que vamos a utilizar más adelante, por lo que lo almacenamos en una variable llamada ``data_number``."
   ]
  },
  {
   "cell_type": "code",
   "execution_count": 3,
   "metadata": {},
   "outputs": [
    {
     "name": "stdout",
     "output_type": "stream",
     "text": [
      "   n  A  B   M   N          ΔV           ρ̥   SD         I          SP  \\\n",
      "0  1  0  5  10  15  193.250000  1105.000000  0.0  5.800000 -131.000000   \n",
      "1  2  0  5  15  20   49.340000  3171.000000  1.4  5.800000   -9.000000   \n",
      "2  3  0  5  20  25   14.300000  2298.000000  1.2  5.800000  100.000000   \n",
      "3  4  0  5  25  30    6.200000  1995.000000  1.7  5.800000  258.000000   \n",
      "4  5  0  5  30  35    2.783333  1554.666667  5.6  5.866667   28.666667   \n",
      "\n",
      "         Observaciones  \n",
      "0                  NaN  \n",
      "1                  NaN  \n",
      "2                  NaN  \n",
      "3                  NaN  \n",
      "4  promedio por sd>1.5  \n"
     ]
    }
   ],
   "source": [
    "print(df.head())"
   ]
  },
  {
   "cell_type": "markdown",
   "metadata": {},
   "source": [
    "Con la función ``df.head()`` podemos ver las primeras filas de nuestro DataFrame. Vemos que el parámetro \"n\" y \"Observaciones\" no los necesitamos, entonces podemos filtrarlo de nuestro DataFrame, para ello, usamos una función para filtrar y la almacenamos en una nueva variable llamada ``labels_todrop`` y luego aplicamos el filtro al DataFrame:"
   ]
  },
  {
   "cell_type": "code",
   "execution_count": 4,
   "metadata": {},
   "outputs": [
    {
     "name": "stdout",
     "output_type": "stream",
     "text": [
      "   A  B   M   N          ΔV           ρ̥   SD         I          SP\n",
      "0  0  5  10  15  193.250000  1105.000000  0.0  5.800000 -131.000000\n",
      "1  0  5  15  20   49.340000  3171.000000  1.4  5.800000   -9.000000\n",
      "2  0  5  20  25   14.300000  2298.000000  1.2  5.800000  100.000000\n",
      "3  0  5  25  30    6.200000  1995.000000  1.7  5.800000  258.000000\n",
      "4  0  5  30  35    2.783333  1554.666667  5.6  5.866667   28.666667\n"
     ]
    }
   ],
   "source": [
    "labels_todrop = ['n', 'Observaciones']\n",
    "filter = df.filter(labels_todrop)\n",
    "df.drop(filter, inplace=True, axis=1)\n",
    "\n",
    "print(df.head())"
   ]
  },
  {
   "cell_type": "markdown",
   "metadata": {},
   "source": [
    "Ahora vamos a guardar nombres de columnas de interés en una lista llamada ``column_names``. También, definimos el valor ``electrode_sep``, la separación de electrodos, que es el primer valor de la columna A menos el primero de la columna B. Con la función ``.apply(lambda x:)`` aplicamos esta operación a cada columna, para llevarlo al formato que queremos."
   ]
  },
  {
   "cell_type": "code",
   "execution_count": 5,
   "metadata": {},
   "outputs": [],
   "source": [
    "column_names = ['A','B','N','M']\n",
    "\n",
    "electrode_sep = df.at[1,'B'] - df.at[1,'A']\n",
    "\n",
    "df[column_names]=df[column_names].apply(lambda x: (x/electrode_sep)+1).astype(int)"
   ]
  },
  {
   "cell_type": "markdown",
   "metadata": {},
   "source": [
    "Ahora vamos a leer la topografía, que es un archivo con alturas y número de electrodo correspondiente a esa altura."
   ]
  },
  {
   "cell_type": "code",
   "execution_count": 6,
   "metadata": {},
   "outputs": [
    {
     "name": "stdout",
     "output_type": "stream",
     "text": [
      "     x     z\n",
      "0    1  2855\n",
      "1    2  2853\n",
      "2    3  2854\n",
      "3    4  2853\n",
      "4    5  2852\n",
      "5    6  2852\n",
      "6    7  2851\n",
      "7    8  2852\n",
      "8    9  2851\n",
      "9   10  2850\n",
      "10  11  2850\n",
      "11  12  2850\n",
      "12  13  2850\n",
      "13  14  2850\n",
      "14  15  2849\n",
      "15  16  2849\n",
      "16  17  2849\n"
     ]
    }
   ],
   "source": [
    "topo = pd.read_excel('position_xz.xlsx',sheet_name=0)\n",
    "print(topo)\n"
   ]
  },
  {
   "cell_type": "markdown",
   "metadata": {},
   "source": [
    "Ahora nos gustaría convertir el valor de índice de electrodo a su posición relativa a la separación de electrodos, comenzando en cero, y convertir la altura a profundidad. Para ello, volvemos a usar una función ``lambda x``, esta es especialmente útil para sustituir valores en la misma columna."
   ]
  },
  {
   "cell_type": "code",
   "execution_count": 7,
   "metadata": {},
   "outputs": [
    {
     "name": "stdout",
     "output_type": "stream",
     "text": [
      "       x  z\n",
      "0    0.0  0\n",
      "1    5.0 -2\n",
      "2   10.0 -1\n",
      "3   15.0 -2\n",
      "4   20.0 -3\n",
      "5   25.0 -3\n",
      "6   30.0 -4\n",
      "7   35.0 -3\n",
      "8   40.0 -4\n",
      "9   45.0 -5\n",
      "10  50.0 -5\n",
      "11  55.0 -5\n",
      "12  60.0 -5\n",
      "13  65.0 -5\n",
      "14  70.0 -6\n",
      "15  75.0 -6\n",
      "16  80.0 -6\n"
     ]
    }
   ],
   "source": [
    "topo['x']=topo['x'].apply(lambda x: (((x%(x+1))*electrode_sep)-electrode_sep)).astype(float)\n",
    "topo['z']=topo['z'] - topo['z'].max()\n",
    "print(topo)"
   ]
  },
  {
   "cell_type": "markdown",
   "metadata": {},
   "source": [
    "Oservamos que el número de filas es el total de electrodos, guardamos esto en una variable \"n\"."
   ]
  },
  {
   "cell_type": "code",
   "execution_count": 8,
   "metadata": {},
   "outputs": [
    {
     "name": "stdout",
     "output_type": "stream",
     "text": [
      "17\n"
     ]
    }
   ],
   "source": [
    "n = len(topo)\n",
    "print(n)"
   ]
  },
  {
   "cell_type": "markdown",
   "metadata": {},
   "source": [
    "Ahora tenemos que hacer *marramucias* para convertir estos datos en el formato que queremos. Para ello, y mantener el orden de los datos, vamos a utilizar diccionarios.\n",
    "\n",
    "Primero, creamos \"header\", un diccionario que será el encabezado del archivo, luego lo convertimos en un DataFrame."
   ]
  },
  {
   "cell_type": "code",
   "execution_count": 9,
   "metadata": {},
   "outputs": [
    {
     "name": "stdout",
     "output_type": "stream",
     "text": [
      "   17 #number of electrodes\n",
      "0  #x                     z\n"
     ]
    }
   ],
   "source": [
    "header = [{n:'#x', '#number of electrodes':'z'}]\n",
    "header = pd.DataFrame(header)\n",
    "print(header)"
   ]
  },
  {
   "cell_type": "markdown",
   "metadata": {},
   "source": [
    "Ahora creamos el encabezado que marca el final de la topografía y el inicio de los datos de resistividad, y lo convertimos en DataFrame."
   ]
  },
  {
   "cell_type": "code",
   "execution_count": 10,
   "metadata": {},
   "outputs": [
    {
     "name": "stdout",
     "output_type": "stream",
     "text": [
      "          105 #Number of data\n",
      "0  #a b m n u    rhoa sd i sp\n"
     ]
    }
   ],
   "source": [
    "middle = [{data_number : '#a b m n u','#Number of data': 'rhoa sd i sp'}]\n",
    "middle = pd.DataFrame(middle)\n",
    "print(middle)"
   ]
  },
  {
   "cell_type": "markdown",
   "metadata": {},
   "source": [
    "Ahora convertimos todos estos DataFrame a un archivo CSV con la función ``.to_csv``, donde el argumento ``mode`` es esencial para crear el archivo adecuadamente: ``mode = w`` significa que se crea el archivo \"data_UDF.csv\", mientras que ``mode = a`` indica que todos los demás subarchivos se están \"pegando\" al archivo \"data_UDF.csv\"."
   ]
  },
  {
   "cell_type": "code",
   "execution_count": 11,
   "metadata": {},
   "outputs": [],
   "source": [
    "header.to_csv('data_UDF.csv', mode = 'w', index = False,sep='\\t')\n",
    "topo.to_csv('data_UDF.csv', mode = 'a', index = False, header=False,sep='\\t')\n",
    "middle.to_csv('data_UDF.csv', mode = 'a', index = False,sep='\\t')\n",
    "df.to_csv('data_UDF.csv', index=False, mode = 'a', header=False, sep='\\t')"
   ]
  }
 ],
 "metadata": {
  "kernelspec": {
   "display_name": "pg",
   "language": "python",
   "name": "python3"
  },
  "language_info": {
   "codemirror_mode": {
    "name": "ipython",
    "version": 3
   },
   "file_extension": ".py",
   "mimetype": "text/x-python",
   "name": "python",
   "nbconvert_exporter": "python",
   "pygments_lexer": "ipython3",
   "version": "3.9.18"
  }
 },
 "nbformat": 4,
 "nbformat_minor": 2
}
