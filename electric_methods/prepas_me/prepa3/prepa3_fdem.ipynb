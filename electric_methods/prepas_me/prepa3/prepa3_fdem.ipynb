{
 "cells": [
  {
   "cell_type": "markdown",
   "metadata": {},
   "source": [
    "# Trabajar con datos electromagéticos\n",
    "\n",
    "En esta prepa veremos varias herramientas que podemos utilizar para procesar nuestros datos electromagnéticos.\n",
    "\n",
    "## PyGimli\n",
    "\n",
    "PyGimli es una librería que se especializa, principalmente, en la inversión y procesamiento de datos eléctricos, y también de creación de datos geofísicos sintéticos para modelado. También tiene un módulo para procesar datos electromagnéticos, llamado [EM](https://www.pygimli.org/pygimliapi/_generated/pygimli.physics.em.html). No obstante, este módulo no tiene muchas funciones y no tiene ejemplos de uso. \n",
    "\n",
    "### Procesamiento de datos\n",
    "\n",
    "Lo primero que hay que hacer es importar el módulo que queremos utilizar, en este caso será `EM` en lugar de `ERT` como la prepa anterior."
   ]
  },
  {
   "cell_type": "code",
   "execution_count": 1,
   "metadata": {},
   "outputs": [],
   "source": [
    "import pygimli as pg\n",
    "from pygimli.physics import em"
   ]
  },
  {
   "cell_type": "markdown",
   "metadata": {},
   "source": [
    "Ahora, lo siguiente que debemos hacer es cargar los archivos. Eso lo haremos con la función `em.readusffile()` que recibe como argumento el nombre de su archivo, como en la prepa anterior usábamos `ert.load()`. También pueden cargar los datos utilizando la función `em.TDEM()` que recibe como argumento el nombre del archivo, esto puede resultar más conveniente porque este será un objeto de clase TEM y servirá para aplicar las demás funciones sin errores. Como no tengo un archivo de ejemplo, no puedo ejecutar código, pero cargar su archivo debería lucir así:"
   ]
  },
  {
   "cell_type": "markdown",
   "metadata": {},
   "source": [
    "`datos = em.TDEM('tuarchivo.csv')`\n",
    "\n",
    "También se puede cargar con: \n",
    "\n",
    "`datos = em.readusffile('tuarchivo.csv')`\n",
    "\n",
    "Cabe a destacar que `tuarchivo.csv` debe estar en formato USF, [aquí](https://wiki.ags-cloud.dk/wiki/tiki-download_wiki_attachment.php?attId=17&page=S_ImportUSF&download=y) pueden ver un documento en el que se muestra cómo deben escribir sus datos electromagnéticos con este formato."
   ]
  },
  {
   "cell_type": "markdown",
   "metadata": {},
   "source": [
    "Luego de que hayamos cargado los datos, podemos acceder a las funciones que querramos utilizar con la variable `datos`, donde hemos guardado nuestros datos. Por ejemplo, para invertir, usaremos:\n",
    "\n",
    "`datos_invertidos = datos.invert(nr=0, nlay=4, thickness=None, errorFloor=0.05)`\n",
    "\n",
    "donde los parámetros los colocamos nosotros dependiendo de nuestros datos. Luego podremos graficar las curvas de resistividad aparente y los transientes:\n",
    "\n",
    "`datos_invertidos.plotRhoa()`\n",
    "\n",
    "Para curvas de resistividad, y:\n",
    "\n",
    "`datos_invertidos.plotTransients()` para transientes.\n"
   ]
  },
  {
   "cell_type": "markdown",
   "metadata": {},
   "source": [
    "Sin duda alguna, la mayor desventaja de usar PyGimli es que el módulo de datos electromagnéticos está mal documentado y no  hay ejemplos. Pero hay otras herramientas de código abierto que nos pueden ayudar.\n",
    "\n",
    "## EMagPy\n",
    "\n",
    "[EMagPy](https://hkex.gitlab.io/emagpy/index.html) es un paquete (API de Python)/programa (GUI, *graphical user interface*) especializado en datos electromagnéticos, y tiene muchísimas funciones para trabajar con datos electromagnéticos. La principal ventaja de esta herramienta es que pueden simplemente [descargar](https://github.com/hkexgroup/emagpy/releases/download/v1.3.2/EMagPy-windows.exe) un archivo ejecutable gratuito, y al ejecutarlo podrán abrir la aplicación que se ve así:\n",
    "\n",
    "![](p1.png)\n"
   ]
  },
  {
   "cell_type": "markdown",
   "metadata": {},
   "source": [
    "[Aquí](https://hkex.gitlab.io/emagpy/gui.html) pueden ver una explicación de la interfaz gráfica y [aquí](https://hkex.gitlab.io/emagpy/gallery/index.html) tienen un montón de ejemplos de lo que puede hacer la herramienta, principalmente de usuarios que utilizan el API, pero [este](https://www.youtube.com/watch?v=YQrwswv3eok) es un tutorial de cómo utilizar el software.\n",
    "\n",
    "Lo más interesante de este software es que sigue siendo de código abierto y les permite comparar cómo se hacen las cosas en el programa vs. cómo tendrían que escribirlas en código, pero no los deja dependientes totalmente a que su código funcione."
   ]
  },
  {
   "cell_type": "markdown",
   "metadata": {},
   "source": [
    "## SimPEG\n",
    "\n",
    "[SimPEG](https://simpeg.xyz/) es uno de los paquetes para simulación de datos geofísicos más completos que hay, y permite hacer inversión de datos TDEM como pueden ver en este [ejemplo](https://simpeg.xyz/user-tutorials/inv-tdem-1d). Sin embargo, por lo general requiere que se tenga un nivel intermedio de programación, y de querer utilizarlo tendrían que lidiar con la [instalación](https://docs.simpeg.xyz/latest/content/getting_started/installing.html) (que suele ser súper tediosa, por eso yo no les hice instalar PyGimli directamente).\n",
    "\n",
    "Una ventaja es que nuestro ejemplo está bien documentado y podremos obtener una inversión en 1D por varios métodos:\n",
    "\n",
    "![](p2.png)\n",
    "\n",
    "Pero requiere que sepamos adaptar nuestros datos a los datos que recibe la función, y eso siempre suele ser complicado y requerir mucho tiempo. También requiere que estemos súper claros en la parte teórica, y eso no siempre es verdad."
   ]
  }
 ],
 "metadata": {
  "kernelspec": {
   "display_name": "pg",
   "language": "python",
   "name": "python3"
  },
  "language_info": {
   "codemirror_mode": {
    "name": "ipython",
    "version": 3
   },
   "file_extension": ".py",
   "mimetype": "text/x-python",
   "name": "python",
   "nbconvert_exporter": "python",
   "pygments_lexer": "ipython3",
   "version": "3.9.18"
  }
 },
 "nbformat": 4,
 "nbformat_minor": 2
}
